{
 "cells": [
  {
   "cell_type": "markdown",
   "metadata": {},
   "source": [
    "## 1. Complete the following code to find the area of an equilateral triangle. Output should be as displayed"
   ]
  },
  {
   "cell_type": "code",
   "execution_count": 1,
   "metadata": {},
   "outputs": [
    {
     "name": "stdout",
     "output_type": "stream",
     "text": [
      "Enter the side of the equilateral triangle: 6\n",
      "15.6\n"
     ]
    }
   ],
   "source": [
    "import math\n",
    "side = float(input(\"Enter the side of the equilateral triangle: \"))\n",
    "area = ((math.sqrt(3))/4)*pow(side,2)\n",
    "print(round(area,1))\n"
   ]
  },
  {
   "cell_type": "markdown",
   "metadata": {},
   "source": [
    "## 2. Write a program to count the number of each characters in a string"
   ]
  },
  {
   "cell_type": "code",
   "execution_count": 29,
   "metadata": {},
   "outputs": [
    {
     "name": "stdout",
     "output_type": "stream",
     "text": [
      "Enter the string: Aiswarya\n",
      "Number of characters in the string= 8\n"
     ]
    }
   ],
   "source": [
    "name=input(\"Enter the string: \")\n",
    "count=0\n",
    "for i in name:\n",
    "    count=count+1\n",
    "print('Number of characters in the string=',count)"
   ]
  },
  {
   "cell_type": "markdown",
   "metadata": {},
   "source": [
    "## 3. Write a program to find the area and perimeter of a rectangle using functions"
   ]
  },
  {
   "cell_type": "code",
   "execution_count": 6,
   "metadata": {},
   "outputs": [
    {
     "name": "stdout",
     "output_type": "stream",
     "text": [
      "Enter length5\n",
      "Enter breadth7\n",
      "The area= 35\n",
      "The perimeter= 24\n"
     ]
    }
   ],
   "source": [
    "def rectarea():\n",
    "    print(\"The area=\",l*b)\n",
    "def rectperimeter():\n",
    "    print(\"The perimeter=\",2*(l+b))\n",
    "    \n",
    "    \n",
    "l=int(input('Enter length'))\n",
    "b=int(input('Enter breadth'))\n",
    "rectarea()\n",
    "rectperimeter()\n",
    "         \n",
    "        \n",
    "          "
   ]
  },
  {
   "cell_type": "markdown",
   "metadata": {},
   "source": [
    "## 4. Write a program to print the fibonacci series till a specified number"
   ]
  },
  {
   "cell_type": "code",
   "execution_count": 7,
   "metadata": {},
   "outputs": [
    {
     "name": "stdout",
     "output_type": "stream",
     "text": [
      "Enter a number:6\n",
      "0 1 1 2 3 5 "
     ]
    }
   ],
   "source": [
    "a=0\n",
    "b=1\n",
    "n=int(input(\"Enter a number:\"))\n",
    "s=0\n",
    "for i in range(n):\n",
    "    print(s,end=\" \")\n",
    "    s=a+b\n",
    "    b=a\n",
    "    a=s\n"
   ]
  },
  {
   "cell_type": "markdown",
   "metadata": {},
   "source": [
    "## 5. Complete the following code to find the minimum of 3 number using conditional statements. Output should be as displayed"
   ]
  },
  {
   "cell_type": "code",
   "execution_count": 9,
   "metadata": {},
   "outputs": [
    {
     "name": "stdout",
     "output_type": "stream",
     "text": [
      "Enter three numbers followed by  : 3 34 5\n",
      "First number : 3\n",
      "Second number : 34\n",
      "Third number : 5\n",
      "3  is smallest\n"
     ]
    }
   ],
   "source": [
    "a,b,c = input(\"Enter three numbers followed by  : \").split()\n",
    "\n",
    "print(\"First number :\",a)\n",
    "print(\"Second number :\",b)\n",
    "print(\"Third number :\",c)\n",
    "if(a==b==c):\n",
    "    print(\"Entered numbers are equal!!!\")\n",
    "elif a<b and a<c:\n",
    "    print(a,\" is smallest\")\n",
    "elif b<a and b<c:\n",
    "    print(b,\" is smallest\")\n",
    "elif c<a and c<b:\n",
    "    print(c,\" is smallest\")"
   ]
  },
  {
   "cell_type": "markdown",
   "metadata": {},
   "source": [
    "## 6. Write a program to print star pyramind. The number of rows should be taken as input from the user"
   ]
  },
  {
   "cell_type": "code",
   "execution_count": 27,
   "metadata": {},
   "outputs": [
    {
     "name": "stdout",
     "output_type": "stream",
     "text": [
      "Enter the number of rows6\n",
      "     * \n",
      "\n",
      "    * * \n",
      "\n",
      "   * * * \n",
      "\n",
      "  * * * * \n",
      "\n",
      " * * * * * \n",
      "\n",
      "* * * * * * \n",
      "\n"
     ]
    }
   ],
   "source": [
    "r=int(input('Enter the number of rows'))\n",
    "spaces=r-1\n",
    "for i in range(r):\n",
    "    for j in range(spaces):\n",
    "         print(end=\" \")\n",
    "    spaces=spaces-1\n",
    "    for j in range(i+1):\n",
    "        print('*',end=\" \")\n",
    "    print('\\n')"
   ]
  },
  {
   "cell_type": "markdown",
   "metadata": {},
   "source": [
    "## 7. Complete the following code to convert hour into seconds. Output should be as displayed"
   ]
  },
  {
   "cell_type": "code",
   "execution_count": 10,
   "metadata": {},
   "outputs": [
    {
     "name": "stdout",
     "output_type": "stream",
     "text": [
      "Enter the time in Hours8\n",
      "8  Hour is equal to 28800  Seconds\n"
     ]
    }
   ],
   "source": [
    "def to_seconds(t):\n",
    "    t=t*60*60\n",
    "    return t\n",
    "time_in_hours =int(input(\"Enter the time in Hours\")) \n",
    "print(time_in_hours ,\" Hour is equal to\" ,to_seconds(time_in_hours) ,\" Seconds\")"
   ]
  },
  {
   "cell_type": "markdown",
   "metadata": {},
   "source": [
    "## 8. Write a program to print multiplication table as below"
   ]
  },
  {
   "cell_type": "code",
   "execution_count": 19,
   "metadata": {},
   "outputs": [
    {
     "name": "stdout",
     "output_type": "stream",
     "text": [
      "Enter the number to be multiplied:67\n",
      "1 x 67 = 67\n",
      "2 x 67 = 134\n",
      "3 x 67 = 201\n",
      "4 x 67 = 268\n",
      "5 x 67 = 335\n",
      "6 x 67 = 402\n",
      "7 x 67 = 469\n",
      "8 x 67 = 536\n",
      "9 x 67 = 603\n",
      "10 x 67 = 670\n"
     ]
    }
   ],
   "source": [
    "num=int(input('Enter the number to be multiplied:'))\n",
    "     \n",
    "for i in range(1,11):\n",
    " print(i,'x',num,'=',i*num)"
   ]
  },
  {
   "cell_type": "markdown",
   "metadata": {},
   "source": [
    "## 9. Write a program to take your 5 favorite food as list and print each as 'I like Biriyani'"
   ]
  },
  {
   "cell_type": "code",
   "execution_count": 2,
   "metadata": {},
   "outputs": [
    {
     "name": "stdout",
     "output_type": "stream",
     "text": [
      "Enter 5 favourite foods'biriyani','shakes','smoothies','icecreams','cakes'\n",
      "The list is ('biriyani', 'shakes', 'smoothies', 'icecreams', 'cakes')\n",
      "I like biriyani\n",
      "I like shakes\n",
      "I like smoothies\n",
      "I like icecreams\n",
      "I like cakes\n"
     ]
    }
   ],
   "source": [
    "L=eval(input(\"Enter 5 favourite foods\"))\n",
    "print('The list is',L)\n",
    "for i in L:\n",
    "    print ('I like',i)"
   ]
  },
  {
   "cell_type": "code",
   "execution_count": null,
   "metadata": {},
   "outputs": [],
   "source": []
  },
  {
   "cell_type": "code",
   "execution_count": null,
   "metadata": {},
   "outputs": [],
   "source": []
  }
 ],
 "metadata": {
  "kernelspec": {
   "display_name": "Python 3 (ipykernel)",
   "language": "python",
   "name": "python3"
  },
  "language_info": {
   "codemirror_mode": {
    "name": "ipython",
    "version": 3
   },
   "file_extension": ".py",
   "mimetype": "text/x-python",
   "name": "python",
   "nbconvert_exporter": "python",
   "pygments_lexer": "ipython3",
   "version": "3.9.7"
  }
 },
 "nbformat": 4,
 "nbformat_minor": 4
}
